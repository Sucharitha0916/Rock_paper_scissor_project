{
 "cells": [
  {
   "cell_type": "markdown",
   "id": "a9b1b4f6-b839-4f01-8229-beb6cfba4dea",
   "metadata": {},
   "source": [
    "## Rock-Paper-Scissor Project"
   ]
  },
  {
   "cell_type": "code",
   "execution_count": null,
   "id": "13548bbe-17e9-4a26-8fa1-47479fd0332f",
   "metadata": {},
   "outputs": [
    {
     "name": "stdout",
     "output_type": "stream",
     "text": [
      "🎮 Welcome to Rock-Paper-Scissors Game 🎮\n",
      "Rules: Rock beats Scissors, Scissors beats Paper, Paper beats Rock\n",
      "---------------------------------------------------------------\n"
     ]
    },
    {
     "name": "stdin",
     "output_type": "stream",
     "text": [
      "Enter your choice (rock/paper/scissors or 'exit' to quit):  rock\n"
     ]
    },
    {
     "name": "stdout",
     "output_type": "stream",
     "text": [
      "Computer chose: scissors\n",
      "🎉 You win this round!\n",
      "Scoreboard -> You: 1 | Computer: 0 | Rounds: 1\n",
      "---------------------------------------------------------------\n"
     ]
    }
   ],
   "source": [
    "import random\n",
    "\n",
    "def rock_paper_scissors():\n",
    "    print(\"🎮 Welcome to Rock-Paper-Scissors Game 🎮\")\n",
    "    print(\"Rules: Rock beats Scissors, Scissors beats Paper, Paper beats Rock\")\n",
    "    print(\"---------------------------------------------------------------\")\n",
    "\n",
    "    choices = [\"rock\", \"paper\", \"scissors\"]\n",
    "    user_score = 0\n",
    "    computer_score = 0\n",
    "    rounds = 0\n",
    "\n",
    "    while True:\n",
    "        user_choice = input(\"Enter your choice (rock/paper/scissors or 'exit' to quit): \").lower()\n",
    "\n",
    "        if user_choice == \"exit\":\n",
    "            print(\"Game Over! 👋\")\n",
    "            print(f\"Final Score -> You: {user_score} | Computer: {computer_score} | Rounds: {rounds}\")\n",
    "            if user_score > computer_score:\n",
    "                print(\"🏆 You are the overall WINNER!\")\n",
    "            elif user_score < computer_score:\n",
    "                print(\"💻 Computer is the overall WINNER!\")\n",
    "            else:\n",
    "                print(\"🤝 It's an overall TIE!\")\n",
    "            break\n",
    "\n",
    "        if user_choice not in choices:\n",
    "            print(\"❌ Invalid choice! Please choose rock, paper, or scissors.\")\n",
    "            continue\n",
    "\n",
    "        computer_choice = random.choice(choices)\n",
    "        print(f\"Computer chose: {computer_choice}\")\n",
    "\n",
    "        rounds += 1\n",
    "\n",
    "        if user_choice == computer_choice:\n",
    "            print(\"It's a tie! 🤝\")\n",
    "        elif (\n",
    "            (user_choice == \"rock\" and computer_choice == \"scissors\") or\n",
    "            (user_choice == \"paper\" and computer_choice == \"rock\") or\n",
    "            (user_choice == \"scissors\" and computer_choice == \"paper\")\n",
    "        ):\n",
    "            print(\"🎉 You win this round!\")\n",
    "            user_score += 1\n",
    "        else:\n",
    "            print(\"💻 Computer wins this round!\")\n",
    "            computer_score += 1\n",
    "\n",
    "        print(f\"Scoreboard -> You: {user_score} | Computer: {computer_score} | Rounds: {rounds}\")\n",
    "        print(\"---------------------------------------------------------------\")\n",
    "\n",
    "# Run the game\n",
    "rock_paper_scissors()"
   ]
  },
  {
   "cell_type": "code",
   "execution_count": null,
   "id": "97201109-7410-4e57-8ff8-d6f16206cd42",
   "metadata": {},
   "outputs": [],
   "source": []
  }
 ],
 "metadata": {
  "kernelspec": {
   "display_name": "Python [conda env:base] *",
   "language": "python",
   "name": "conda-base-py"
  },
  "language_info": {
   "codemirror_mode": {
    "name": "ipython",
    "version": 3
   },
   "file_extension": ".py",
   "mimetype": "text/x-python",
   "name": "python",
   "nbconvert_exporter": "python",
   "pygments_lexer": "ipython3",
   "version": "3.12.7"
  }
 },
 "nbformat": 4,
 "nbformat_minor": 5
}
